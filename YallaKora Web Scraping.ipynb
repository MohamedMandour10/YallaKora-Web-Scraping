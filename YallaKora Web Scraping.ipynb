{
 "cells": [
  {
   "cell_type": "code",
   "execution_count": 4,
   "id": "469f02e8",
   "metadata": {},
   "outputs": [
    {
     "name": "stdout",
     "output_type": "stream",
     "text": [
      "Please enter a date in the format of MM/DD/YYYY: 4/22/2023\n",
      "Process completed successfully!\n"
     ]
    }
   ],
   "source": [
    "import datetime\n",
    "import requests\n",
    "import csv\n",
    "from bs4 import BeautifulSoup\n",
    "\n",
    "\n",
    "def get_valid_date():\n",
    "    while True:\n",
    "        try:\n",
    "            date = input(\"Please enter a date in the format of MM/DD/YYYY: \")\n",
    "            datetime.datetime.strptime(date, '%m/%d/%Y')\n",
    "            return date\n",
    "        except ValueError:\n",
    "            print(\"Invalid date format. Please enter the date in the format of MM/DD/YYYY.\")\n",
    "\n",
    "\n",
    "def scrape_match_info(date):\n",
    "    url = f\"https://www.yallakora.com/match-center/?date={date}\"\n",
    "    page = requests.get(url)\n",
    "    src = page.content\n",
    "    soup = BeautifulSoup(src, \"lxml\")\n",
    "    matches_details = []\n",
    "\n",
    "    championships = soup.find_all(\"div\", {'class': 'matchCard'})\n",
    "\n",
    "    def extract_match_info(championship):\n",
    "        champ_title = championship.contents[1].find('h2').text.strip()\n",
    "        all_matches = championship.find('ul').find_all('li')\n",
    "        num_matches = len(all_matches)\n",
    "\n",
    "        for i in range(num_matches):\n",
    "            # GET TEAM NAME\n",
    "            team_A_div = all_matches[i].find('div', {'class': 'teamA'})\n",
    "            team_A = team_A_div.text.strip() if team_A_div is not None else 'N/A'\n",
    "\n",
    "            team_B_div = all_matches[i].find('div', {'class': 'teamB'})\n",
    "            team_B = team_B_div.text.strip() if team_B_div is not None else 'N/A'\n",
    "\n",
    "            # GET TEAM SCORE\n",
    "            match_result = all_matches[i].find('div', {'class': 'MResult'}).find_all('span', {'class': 'score'})\n",
    "            score = f\"{match_result[0].text.strip()} - {match_result[1].text.strip()}\" if match_result else 'N/A'\n",
    "\n",
    "            # GET MATCH TIME\n",
    "            match_time = all_matches[i].find('div', {'class': 'MResult'}).find('span', {'class': 'time'}).text.strip()\n",
    "\n",
    "            # ADD MATCH INFO TO matches_details\n",
    "            matches_details.append({'League': champ_title, 'TeamA': team_A, 'TeamB': team_B, 'Score': score,\n",
    "                                     'Time': match_time})\n",
    "\n",
    "    for championship in championships:\n",
    "        extract_match_info(championship)\n",
    "\n",
    "    return matches_details\n",
    "\n",
    "\n",
    "def write_csv_file(matches_details):\n",
    "    headers = matches_details[0].keys()\n",
    "    with open('match_info.csv', 'w', newline='') as match_scrap:\n",
    "        match_infos = csv.DictWriter(match_scrap, headers)\n",
    "        match_infos.writeheader()\n",
    "        match_infos.writerows(matches_details)\n",
    "        print(\"Process completed successfully!\")\n",
    "\n",
    "\n",
    "if __name__ == '__main__':\n",
    "    date = get_valid_date()\n",
    "    match_details = scrape_match_info(date)\n",
    "    write_csv_file(match_details)\n"
   ]
  }
 ],
 "metadata": {
  "kernelspec": {
   "display_name": "Python 3 (ipykernel)",
   "language": "python",
   "name": "python3"
  },
  "language_info": {
   "codemirror_mode": {
    "name": "ipython",
    "version": 3
   },
   "file_extension": ".py",
   "mimetype": "text/x-python",
   "name": "python",
   "nbconvert_exporter": "python",
   "pygments_lexer": "ipython3",
   "version": "3.9.13"
  }
 },
 "nbformat": 4,
 "nbformat_minor": 5
}
